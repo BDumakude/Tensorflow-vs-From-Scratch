{
 "cells": [
  {
   "cell_type": "markdown",
   "metadata": {},
   "source": [
    "# Digit Multiclass Classification From Scratch"
   ]
  },
  {
   "cell_type": "code",
   "execution_count": 1,
   "metadata": {},
   "outputs": [],
   "source": [
    "import numpy as np \n",
    "from keras.datasets import mnist\n",
    "import timeit"
   ]
  },
  {
   "cell_type": "markdown",
   "metadata": {},
   "source": [
    "## Import and preprocess the mnist data"
   ]
  },
  {
   "cell_type": "code",
   "execution_count": 2,
   "metadata": {},
   "outputs": [],
   "source": [
    "from keras.utils import to_categorical\n",
    "\n",
    "(train_images, train_labels), (test_images, test_labels) = mnist.load_data()\n",
    "\n",
    "train_images = train_images.reshape((60000, 28*28))\n",
    "train_images = train_images.astype('float32') / 255 \n",
    "\n",
    "test_images = test_images.reshape((10000, 28*28))\n",
    "test_images = test_images.astype('float32') / 255 \n",
    "\n",
    "train_labels = to_categorical(train_labels)\n",
    "test_labels = to_categorical(test_labels)"
   ]
  },
  {
   "cell_type": "markdown",
   "metadata": {},
   "source": [
    "## Initialisation\n",
    "\n",
    "- random initialisation of weights and biases\n",
    "- 1 hidden layer (512 neurons)\n",
    "- dense layers"
   ]
  },
  {
   "cell_type": "code",
   "execution_count": 4,
   "metadata": {},
   "outputs": [
    {
     "name": "stdout",
     "output_type": "stream",
     "text": [
      "(512, 784)\n",
      "(10, 512)\n",
      "(512, 1)\n",
      "(10, 1)\n"
     ]
    }
   ],
   "source": [
    "def initialise(in_n: int ,hidden_n: int , out_n: int):\n",
    "    w1 = np.random.rand(hidden_n, in_n) - 0.5 # weights range (-1/2, 1/2)\n",
    "    w2 = np.random.rand(out_n, hidden_n) - 0.5\n",
    "    b1 = np.zeros((hidden_n, 1)) # initialise biases to 0\n",
    "    b2 = np.zeros((out_n, 1))\n",
    "    return w1, b1, w2, b2\n",
    "\n",
    "w1, b1, w2, b2 = initialise(784, 512, 10)\n",
    "\n",
    "print(w1.shape)\n",
    "print(w2.shape)\n",
    "print(b1.shape)\n",
    "print(b2.shape)"
   ]
  },
  {
   "cell_type": "markdown",
   "metadata": {},
   "source": [
    "## Activations, Derivatives of Activations\n",
    "\n",
    "- ReLU used for hidden layer\n",
    "- softmax used for output"
   ]
  },
  {
   "cell_type": "code",
   "execution_count": 5,
   "metadata": {},
   "outputs": [],
   "source": [
    "# ReLU\n",
    "def relu(z):\n",
    "    return np.maximum(z, 0)\n",
    "\n",
    "# Derivative of ReLu\n",
    "def relu_prime(z):\n",
    "    return relu(z) > 0\n",
    "\n",
    "# softmax\n",
    "def soft_max(z):\n",
    "    e_z = np.exp(z - np.max(z))\n",
    "    return e_z / e_z.sum()\n",
    "\n",
    "# derivative of softmax\n",
    "def softmax_derivative(softmax):\n",
    "    s = softmax.reshape(-1,1)\n",
    "    return np.diagflat(s) - np.dot(s, s.T)"
   ]
  },
  {
   "cell_type": "markdown",
   "metadata": {},
   "source": [
    "## Forward Pass"
   ]
  },
  {
   "cell_type": "code",
   "execution_count": 6,
   "metadata": {},
   "outputs": [],
   "source": [
    "def forward_pass(a0, w1, b1, w2, b2):\n",
    "    z1 = np.dot(w1,a0) + b1\n",
    "    a1 = relu(z1)\n",
    "    z2 = np.dot(w2, a1) + b2\n",
    "    a2 = soft_max(z2)\n",
    "    return z1, a1, z2, a2"
   ]
  },
  {
   "cell_type": "markdown",
   "metadata": {},
   "source": [
    "## Compute the Gradrients (Back Propagation)"
   ]
  },
  {
   "cell_type": "code",
   "execution_count": 7,
   "metadata": {},
   "outputs": [],
   "source": [
    "def compute_gradients(a2, y, a1, w2, z1, a0):\n",
    "    de2 = a2 - y\n",
    "    db2 = de2\n",
    "    dw2 = np.dot(de2, a1.T)\n",
    "    da1 = np.dot(w2.T, de2)\n",
    "    de1 = da1 * relu_prime(z1)\n",
    "    db1 = de1\n",
    "    dw1 = np.dot(de1, a0.T)\n",
    "    return dw1, db1, dw2, db2"
   ]
  },
  {
   "cell_type": "markdown",
   "metadata": {},
   "source": [
    "## Updating the Weights and Biases"
   ]
  },
  {
   "cell_type": "code",
   "execution_count": 21,
   "metadata": {},
   "outputs": [],
   "source": [
    "def update(w1, b1, w2, b2, dw1, db1, dw2, db2, lr):\n",
    "    w1 = w1 - lr*dw1\n",
    "    b1 = b1 - lr*db1\n",
    "    w2 = w2 - lr*dw2\n",
    "    b2 = b2 - lr*db2\n",
    "    return w1, b1, w2, b2 "
   ]
  },
  {
   "cell_type": "markdown",
   "metadata": {},
   "source": [
    "## Loss Function (cross-entropy)"
   ]
  },
  {
   "cell_type": "code",
   "execution_count": 33,
   "metadata": {},
   "outputs": [],
   "source": [
    "def crossentropy(a, y):\n",
    "    assert a.shape == y.shape\n",
    "    n = a.shape[0]\n",
    "    entropy = 0\n",
    "    for i in range(n):\n",
    "        entropy += y[i] * np.log(a[i])\n",
    "    \n",
    "    return (-1*entropy)[0]\n"
   ]
  },
  {
   "cell_type": "markdown",
   "metadata": {},
   "source": [
    "## Training"
   ]
  },
  {
   "cell_type": "code",
   "execution_count": 30,
   "metadata": {},
   "outputs": [
    {
     "name": "stdout",
     "output_type": "stream",
     "text": [
      "epoch 1 | loss = 0.00011885735165259896\n",
      "epoch 2 | loss = 1.792427957297521e-06\n",
      "epoch 3 | loss = 2.0561736137659014e-06\n",
      "epoch 4 | loss = 9.016175753876706e-06\n",
      "epoch 5 | loss = 3.4418269629549524e-05\n"
     ]
    }
   ],
   "source": [
    "# learning rate\n",
    "lr = 0.01\n",
    "epochs = 5\n",
    "\n",
    "w1, b1, w2, b2 = initialise(784, 512, 10)\n",
    "\n",
    "for i in range(epochs):\n",
    "    loss = 0\n",
    "    for j in range(60000):\n",
    "        a0 = train_images[j].reshape(784, 1)\n",
    "        y = train_labels[j].reshape(10,1)\n",
    "        z1, a1, z2, a2 = forward_pass(a0, w1, b1, w2, b2)\n",
    "        dw1, db1, dw2, db2 = compute_gradients(a2, y, a1, w2, z1, a0)\n",
    "        w1, b1, w2, b2 = update(w1, b1, w2, b2, dw1, db1, dw2, db2, lr)\n",
    "        loss = crossentropy(a2, y)\n",
    "    print(f'epoch {i+1} | loss = {loss}')\n"
   ]
  },
  {
   "cell_type": "markdown",
   "metadata": {},
   "source": [
    "- The losses are low\n",
    "- the main point of this exercise is a comparison between direct computation and (manual coding) and tensorflow(keras)\n",
    "- it took 12 minutes 8.5 seconds to complete the training on 5 epochs"
   ]
  },
  {
   "cell_type": "markdown",
   "metadata": {},
   "source": [
    "## Testing "
   ]
  },
  {
   "cell_type": "code",
   "execution_count": 32,
   "metadata": {},
   "outputs": [
    {
     "name": "stdout",
     "output_type": "stream",
     "text": [
      "Train Accuaracy: 0.9951\n",
      "Test Accuaracy: 0.9721\n"
     ]
    }
   ],
   "source": [
    "correct_test = 0\n",
    "for i in range(10000):\n",
    "    a0 = test_images[i].reshape(784, 1)\n",
    "    y = test_labels[i].reshape(10, 1)\n",
    "    # using the last updated weights in the training \n",
    "    z1, a1, z2, a2 = forward_pass(a0, w1, b1, w2, b2)\n",
    "    if np.argmax(a2) == np.argmax(y):\n",
    "        correct_test += 1\n",
    "\n",
    "correct_train = 0\n",
    "for i in range(60000):\n",
    "    a0 = train_images[i].reshape(784, 1)\n",
    "    y = train_labels[i].reshape(10, 1)\n",
    "    # using the last updated weights in the training \n",
    "    z1, a1, z2, a2 = forward_pass(a0, w1, b1, w2, b2)\n",
    "    if np.argmax(a2) == np.argmax(y):\n",
    "        correct_train += 1\n",
    "accuracy_train = correct_train/60000\n",
    "accuracy_test = correct_test/10000\n",
    "\n",
    "print(f'Train Accuaracy: {accuracy_train}')\n",
    "print(f'Test Accuaracy: {accuracy_test}')"
   ]
  },
  {
   "cell_type": "markdown",
   "metadata": {},
   "source": [
    "## Summary\n",
    "- Train Accuracy: $0.9951$\n",
    "- Test Accuracy: $0.9721$\n",
    "- The test accuracy is lower than the train accuracy which suggests some overfitting \n",
    "- However the difference for this type of task is not extreme and the test accuracy is high\n",
    "- Perhaps altering the learning rate will yield a more generalisable model but the model calculated is sufficiently generalisable"
   ]
  },
  {
   "cell_type": "markdown",
   "metadata": {},
   "source": []
  }
 ],
 "metadata": {
  "kernelspec": {
   "display_name": "tensorflowenv",
   "language": "python",
   "name": "python3"
  },
  "language_info": {
   "codemirror_mode": {
    "name": "ipython",
    "version": 3
   },
   "file_extension": ".py",
   "mimetype": "text/x-python",
   "name": "python",
   "nbconvert_exporter": "python",
   "pygments_lexer": "ipython3",
   "version": "3.10.13"
  }
 },
 "nbformat": 4,
 "nbformat_minor": 2
}
